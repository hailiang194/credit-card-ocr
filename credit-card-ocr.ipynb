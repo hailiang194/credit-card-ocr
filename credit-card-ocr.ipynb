{
  "nbformat": 4,
  "nbformat_minor": 0,
  "metadata": {
    "colab": {
      "name": "Untitled10.ipynb",
      "provenance": [],
      "collapsed_sections": []
    },
    "kernelspec": {
      "name": "python3",
      "display_name": "Python 3"
    },
    "language_info": {
      "name": "python"
    },
    "accelerator": "GPU"
  },
  "cells": [
    {
      "cell_type": "code",
      "metadata": {
        "colab": {
          "base_uri": "https://localhost:8080/"
        },
        "id": "VQ3B6Av3Ifw9",
        "outputId": "c19e9ed9-7f5c-4d1d-9340-b683606e1b72"
      },
      "source": [
        "!git clone https://github.com/hailiang194/CRAFT-pytorch"
      ],
      "execution_count": null,
      "outputs": [
        {
          "output_type": "stream",
          "text": [
            "Cloning into 'CRAFT-pytorch'...\n",
            "remote: Enumerating objects: 59, done.\u001b[K\n",
            "remote: Counting objects: 100% (3/3), done.\u001b[K\n",
            "remote: Compressing objects: 100% (3/3), done.\u001b[K\n",
            "remote: Total 59 (delta 0), reused 1 (delta 0), pack-reused 56\u001b[K\n",
            "Unpacking objects: 100% (59/59), done.\n"
          ],
          "name": "stdout"
        }
      ]
    },
    {
      "cell_type": "code",
      "metadata": {
        "colab": {
          "base_uri": "https://localhost:8080/"
        },
        "id": "ccCy025YIoKg",
        "outputId": "fc625e7c-642d-457f-a533-225f2d3ad69b"
      },
      "source": [
        "from google.colab import drive\n",
        "drive.mount('/content/drive')"
      ],
      "execution_count": null,
      "outputs": [
        {
          "output_type": "stream",
          "text": [
            "Mounted at /content/drive\n"
          ],
          "name": "stdout"
        }
      ]
    },
    {
      "cell_type": "code",
      "metadata": {
        "id": "GKHS07wzIqWd"
      },
      "source": [
        "import sys\n",
        "sys.path.append('CRAFT-pytorch')"
      ],
      "execution_count": null,
      "outputs": []
    },
    {
      "cell_type": "code",
      "metadata": {
        "id": "347UWmc_IuB7"
      },
      "source": [
        "import torch\n",
        "import time\n",
        "import imgproc\n",
        "from torch.autograd import Variable\n",
        "import craft_utils\n",
        "import numpy as np"
      ],
      "execution_count": null,
      "outputs": []
    },
    {
      "cell_type": "code",
      "metadata": {
        "id": "0EQFqc_xIxBt"
      },
      "source": [
        "import craft"
      ],
      "execution_count": null,
      "outputs": []
    },
    {
      "cell_type": "code",
      "metadata": {
        "id": "kUXE4CRWKRzP"
      },
      "source": [
        "from collections import OrderedDict\n",
        "def copyStateDict(state_dict):\n",
        "    if list(state_dict.keys())[0].startswith(\"module\"):\n",
        "        start_idx = 1\n",
        "    else:\n",
        "        start_idx = 0\n",
        "    new_state_dict = OrderedDict()\n",
        "    for k, v in state_dict.items():\n",
        "        name = \".\".join(k.split(\".\")[start_idx:])\n",
        "        new_state_dict[name] = v\n",
        "    return new_state_dict\n"
      ],
      "execution_count": null,
      "outputs": []
    },
    {
      "cell_type": "code",
      "metadata": {
        "id": "1ADLjpJOIzhU"
      },
      "source": [
        "net = craft.CRAFT()"
      ],
      "execution_count": null,
      "outputs": []
    },
    {
      "cell_type": "code",
      "metadata": {
        "id": "HxvMmAE2I0Ui"
      },
      "source": [
        "import torch.backends.cudnn as cudnn\n",
        "MODEL_PATH = 'drive/MyDrive/emnist/craft_mlt_25k.pth'\n",
        "if torch.cuda.is_available():\n",
        "  net.load_state_dict(copyStateDict(torch.load(MODEL_PATH)))\n",
        "else:\n",
        "  net.load_state_dict(copyStateDict(torch.load(MODEL_PATH, map_location='cpu')))\n",
        "\n",
        "if torch.cuda.is_available():\n",
        "  net = net.cuda()\n",
        "  net = torch.nn.DataParallel(net)\n",
        "  cudnn.benchmark = False"
      ],
      "execution_count": null,
      "outputs": []
    },
    {
      "cell_type": "code",
      "metadata": {
        "id": "Jrd_sjNKSlF_"
      },
      "source": [
        "def test_net(net, image, text_threshold, link_threshold, low_text, cuda, poly, refine_net=None):\n",
        "\n",
        "    # resize\n",
        "    img_resized, target_ratio, size_heatmap = imgproc.resize_aspect_ratio(image, 1280, interpolation=cv2.INTER_LINEAR, mag_ratio=1.5)\n",
        "    ratio_h = ratio_w = 1 / target_ratio\n",
        "\n",
        "    # preprocessing\n",
        "    x = imgproc.normalizeMeanVariance(img_resized)\n",
        "    x = torch.from_numpy(x).permute(2, 0, 1)    # [h, w, c] to [c, h, w]\n",
        "    x = Variable(x.unsqueeze(0))                # [c, h, w] to [b, c, h, w]\n",
        "    if cuda:\n",
        "        x = x.cuda()\n",
        "\n",
        "    # forward pass\n",
        "    with torch.no_grad():\n",
        "        y, feature = net(x)\n",
        "\n",
        "    # make score and link map\n",
        "    score_text = y[0,:,:,0].cpu().data.numpy()\n",
        "    score_link = y[0,:,:,1].cpu().data.numpy()\n",
        "\n",
        "    # refine link\n",
        "    if refine_net is not None:\n",
        "        with torch.no_grad():\n",
        "            y_refiner = refine_net(y, feature)\n",
        "        score_link = y_refiner[0,:,:,0].cpu().data.numpy()\n",
        "\n",
        "    # Post-processing\n",
        "    boxes, polys = craft_utils.getDetBoxes(score_text, score_link, text_threshold, link_threshold, low_text, poly)\n",
        "\n",
        "    # coordinate adjustment\n",
        "    boxes = craft_utils.adjustResultCoordinates(boxes, ratio_w, ratio_h)\n",
        "    polys = craft_utils.adjustResultCoordinates(polys, ratio_w, ratio_h)\n",
        "    for k in range(len(polys)):\n",
        "        if polys[k] is None: polys[k] = boxes[k]\n",
        "\n",
        "    # render results (optional)\n",
        "    render_img = score_text.copy()\n",
        "    render_img = np.hstack((render_img, score_link))\n",
        "    ret_score_text = imgproc.cvt2HeatmapImg(render_img)\n",
        "\n",
        "    return boxes, polys, ret_score_text"
      ],
      "execution_count": null,
      "outputs": []
    },
    {
      "cell_type": "code",
      "metadata": {
        "colab": {
          "base_uri": "https://localhost:8080/"
        },
        "id": "pa9Pn-X7SCpn",
        "outputId": "53f0d532-b6a3-488c-bf24-92f6c32d8e29"
      },
      "source": [
        "net.eval()"
      ],
      "execution_count": null,
      "outputs": [
        {
          "output_type": "execute_result",
          "data": {
            "text/plain": [
              "DataParallel(\n",
              "  (module): CRAFT(\n",
              "    (basenet): vgg16_bn(\n",
              "      (slice1): Sequential(\n",
              "        (0): Conv2d(3, 64, kernel_size=(3, 3), stride=(1, 1), padding=(1, 1))\n",
              "        (1): BatchNorm2d(64, eps=1e-05, momentum=0.1, affine=True, track_running_stats=True)\n",
              "        (2): ReLU(inplace=True)\n",
              "        (3): Conv2d(64, 64, kernel_size=(3, 3), stride=(1, 1), padding=(1, 1))\n",
              "        (4): BatchNorm2d(64, eps=1e-05, momentum=0.1, affine=True, track_running_stats=True)\n",
              "        (5): ReLU(inplace=True)\n",
              "        (6): MaxPool2d(kernel_size=2, stride=2, padding=0, dilation=1, ceil_mode=False)\n",
              "        (7): Conv2d(64, 128, kernel_size=(3, 3), stride=(1, 1), padding=(1, 1))\n",
              "        (8): BatchNorm2d(128, eps=1e-05, momentum=0.1, affine=True, track_running_stats=True)\n",
              "        (9): ReLU(inplace=True)\n",
              "        (10): Conv2d(128, 128, kernel_size=(3, 3), stride=(1, 1), padding=(1, 1))\n",
              "        (11): BatchNorm2d(128, eps=1e-05, momentum=0.1, affine=True, track_running_stats=True)\n",
              "      )\n",
              "      (slice2): Sequential(\n",
              "        (12): ReLU(inplace=True)\n",
              "        (13): MaxPool2d(kernel_size=2, stride=2, padding=0, dilation=1, ceil_mode=False)\n",
              "        (14): Conv2d(128, 256, kernel_size=(3, 3), stride=(1, 1), padding=(1, 1))\n",
              "        (15): BatchNorm2d(256, eps=1e-05, momentum=0.1, affine=True, track_running_stats=True)\n",
              "        (16): ReLU(inplace=True)\n",
              "        (17): Conv2d(256, 256, kernel_size=(3, 3), stride=(1, 1), padding=(1, 1))\n",
              "        (18): BatchNorm2d(256, eps=1e-05, momentum=0.1, affine=True, track_running_stats=True)\n",
              "      )\n",
              "      (slice3): Sequential(\n",
              "        (19): ReLU(inplace=True)\n",
              "        (20): Conv2d(256, 256, kernel_size=(3, 3), stride=(1, 1), padding=(1, 1))\n",
              "        (21): BatchNorm2d(256, eps=1e-05, momentum=0.1, affine=True, track_running_stats=True)\n",
              "        (22): ReLU(inplace=True)\n",
              "        (23): MaxPool2d(kernel_size=2, stride=2, padding=0, dilation=1, ceil_mode=False)\n",
              "        (24): Conv2d(256, 512, kernel_size=(3, 3), stride=(1, 1), padding=(1, 1))\n",
              "        (25): BatchNorm2d(512, eps=1e-05, momentum=0.1, affine=True, track_running_stats=True)\n",
              "        (26): ReLU(inplace=True)\n",
              "        (27): Conv2d(512, 512, kernel_size=(3, 3), stride=(1, 1), padding=(1, 1))\n",
              "        (28): BatchNorm2d(512, eps=1e-05, momentum=0.1, affine=True, track_running_stats=True)\n",
              "      )\n",
              "      (slice4): Sequential(\n",
              "        (29): ReLU(inplace=True)\n",
              "        (30): Conv2d(512, 512, kernel_size=(3, 3), stride=(1, 1), padding=(1, 1))\n",
              "        (31): BatchNorm2d(512, eps=1e-05, momentum=0.1, affine=True, track_running_stats=True)\n",
              "        (32): ReLU(inplace=True)\n",
              "        (33): MaxPool2d(kernel_size=2, stride=2, padding=0, dilation=1, ceil_mode=False)\n",
              "        (34): Conv2d(512, 512, kernel_size=(3, 3), stride=(1, 1), padding=(1, 1))\n",
              "        (35): BatchNorm2d(512, eps=1e-05, momentum=0.1, affine=True, track_running_stats=True)\n",
              "        (36): ReLU(inplace=True)\n",
              "        (37): Conv2d(512, 512, kernel_size=(3, 3), stride=(1, 1), padding=(1, 1))\n",
              "        (38): BatchNorm2d(512, eps=1e-05, momentum=0.1, affine=True, track_running_stats=True)\n",
              "      )\n",
              "      (slice5): Sequential(\n",
              "        (0): MaxPool2d(kernel_size=3, stride=1, padding=1, dilation=1, ceil_mode=False)\n",
              "        (1): Conv2d(512, 1024, kernel_size=(3, 3), stride=(1, 1), padding=(6, 6), dilation=(6, 6))\n",
              "        (2): Conv2d(1024, 1024, kernel_size=(1, 1), stride=(1, 1))\n",
              "      )\n",
              "    )\n",
              "    (upconv1): double_conv(\n",
              "      (conv): Sequential(\n",
              "        (0): Conv2d(1536, 512, kernel_size=(1, 1), stride=(1, 1))\n",
              "        (1): BatchNorm2d(512, eps=1e-05, momentum=0.1, affine=True, track_running_stats=True)\n",
              "        (2): ReLU(inplace=True)\n",
              "        (3): Conv2d(512, 256, kernel_size=(3, 3), stride=(1, 1), padding=(1, 1))\n",
              "        (4): BatchNorm2d(256, eps=1e-05, momentum=0.1, affine=True, track_running_stats=True)\n",
              "        (5): ReLU(inplace=True)\n",
              "      )\n",
              "    )\n",
              "    (upconv2): double_conv(\n",
              "      (conv): Sequential(\n",
              "        (0): Conv2d(768, 256, kernel_size=(1, 1), stride=(1, 1))\n",
              "        (1): BatchNorm2d(256, eps=1e-05, momentum=0.1, affine=True, track_running_stats=True)\n",
              "        (2): ReLU(inplace=True)\n",
              "        (3): Conv2d(256, 128, kernel_size=(3, 3), stride=(1, 1), padding=(1, 1))\n",
              "        (4): BatchNorm2d(128, eps=1e-05, momentum=0.1, affine=True, track_running_stats=True)\n",
              "        (5): ReLU(inplace=True)\n",
              "      )\n",
              "    )\n",
              "    (upconv3): double_conv(\n",
              "      (conv): Sequential(\n",
              "        (0): Conv2d(384, 128, kernel_size=(1, 1), stride=(1, 1))\n",
              "        (1): BatchNorm2d(128, eps=1e-05, momentum=0.1, affine=True, track_running_stats=True)\n",
              "        (2): ReLU(inplace=True)\n",
              "        (3): Conv2d(128, 64, kernel_size=(3, 3), stride=(1, 1), padding=(1, 1))\n",
              "        (4): BatchNorm2d(64, eps=1e-05, momentum=0.1, affine=True, track_running_stats=True)\n",
              "        (5): ReLU(inplace=True)\n",
              "      )\n",
              "    )\n",
              "    (upconv4): double_conv(\n",
              "      (conv): Sequential(\n",
              "        (0): Conv2d(192, 64, kernel_size=(1, 1), stride=(1, 1))\n",
              "        (1): BatchNorm2d(64, eps=1e-05, momentum=0.1, affine=True, track_running_stats=True)\n",
              "        (2): ReLU(inplace=True)\n",
              "        (3): Conv2d(64, 32, kernel_size=(3, 3), stride=(1, 1), padding=(1, 1))\n",
              "        (4): BatchNorm2d(32, eps=1e-05, momentum=0.1, affine=True, track_running_stats=True)\n",
              "        (5): ReLU(inplace=True)\n",
              "      )\n",
              "    )\n",
              "    (conv_cls): Sequential(\n",
              "      (0): Conv2d(32, 32, kernel_size=(3, 3), stride=(1, 1), padding=(1, 1))\n",
              "      (1): ReLU(inplace=True)\n",
              "      (2): Conv2d(32, 32, kernel_size=(3, 3), stride=(1, 1), padding=(1, 1))\n",
              "      (3): ReLU(inplace=True)\n",
              "      (4): Conv2d(32, 16, kernel_size=(3, 3), stride=(1, 1), padding=(1, 1))\n",
              "      (5): ReLU(inplace=True)\n",
              "      (6): Conv2d(16, 16, kernel_size=(1, 1), stride=(1, 1))\n",
              "      (7): ReLU(inplace=True)\n",
              "      (8): Conv2d(16, 2, kernel_size=(1, 1), stride=(1, 1))\n",
              "    )\n",
              "  )\n",
              ")"
            ]
          },
          "metadata": {
            "tags": []
          },
          "execution_count": 10
        }
      ]
    },
    {
      "cell_type": "code",
      "metadata": {
        "id": "JGamrdjqbChA"
      },
      "source": [
        "import tensorflow as tf\n",
        "model = tf.keras.models.load_model('drive/MyDrive/credit/credit_card_model (1).h5')"
      ],
      "execution_count": null,
      "outputs": []
    },
    {
      "cell_type": "code",
      "metadata": {
        "id": "h3ERXLaNGSWS"
      },
      "source": [
        "def predict_digit(digit_image):\n",
        "  image = cv2.resize(digit_image, (58, 85))\n",
        "  predict = model.predict(image.reshape((1, 85, 58, 3)))\n",
        "  # print(np.amax(predict))\n",
        "  return np.argmax(predict)"
      ],
      "execution_count": null,
      "outputs": []
    },
    {
      "cell_type": "code",
      "metadata": {
        "colab": {
          "base_uri": "https://localhost:8080/"
        },
        "id": "fkEVLVe-R7B9",
        "outputId": "95a4cc01-5d82-4bc1-aa8c-809aec6b073b"
      },
      "source": [
        "import json\n",
        "data = None\n",
        "# Opening JSON file\n",
        "with open('drive/MyDrive/emnist/expected.json') as json_file:\n",
        "    data = json.load(json_file)\n",
        "\n",
        "data"
      ],
      "execution_count": null,
      "outputs": [
        {
          "output_type": "execute_result",
          "data": {
            "text/plain": [
              "{'1622431448-2020-mb-cbs-rewardsplusvisa.png': '4055123456789010',\n",
              " '800x504-CassetteCreditCard.png': '5276690000000000',\n",
              " 'BMO-AIR-MILES-World-Mastercard.png': '5191231234567890',\n",
              " 'BPISKYMILESPLATINUM.jpg': '5455155911234567',\n",
              " 'Ceb-Credit-Card-Gold_0726.jpg': '1234567890123456',\n",
              " 'Emerald_EN_Comp27_548x344_tcm341-338971.jpg': '4520123456789123',\n",
              " 'Learn_Visa_ENG.png': '4537123456789012',\n",
              " 'Scotia_Gold_CHIP_MC_En_MED.jpg': '5412751234567899',\n",
              " 'Scotia_Magna_CHIP_MC_En.jpg': '5412751234567899',\n",
              " 'aeonChinaUnicom.jpg': '8888888888888888',\n",
              " 'aeonDRMAX.jpg': '8888888888888888',\n",
              " 'aeonEGL.jpg': '8888888888888888',\n",
              " 'aeonFerrari.jpg': '8888888888888888',\n",
              " 'aeonJAL.jpg': '8888888888888888',\n",
              " 'aeonJCB.jpg': '8888888888888888',\n",
              " 'aeonJapanHomeCentre.jpg': '8888888888888888',\n",
              " 'aeonKFC.jpg': '8888888888888888',\n",
              " 'aeonOKiLike.jpg': '8888888888888888',\n",
              " 'aeonSPCA.jpg': '8888888888888888',\n",
              " 'aeonSowerCard.jpg': '8888888888888888',\n",
              " 'aeonUnion.jpg': '8888888888888888',\n",
              " 'aeonVisa.jpg': '8888888888888888',\n",
              " 'aeonWJCB.jpg': '8888888888888888',\n",
              " 'bankOfChinaCUPPlatinum.jpg': '6250428888888888',\n",
              " 'bankOfChinaEssoPlatinum.jpg': '5179888888888888',\n",
              " 'bankOfChinaGoodDayUnionPay.jpg': '6251368888888888',\n",
              " 'bankOfChinaGoodDayVisa.jpg': '4624198888888888',\n",
              " 'bankOfChinaPlatinum.jpg': '4835888888888888',\n",
              " 'bankOfChinaSinoPlatinum.jpg': '4835198888888888',\n",
              " 'bankOfChinaSogoVisaPlatinum.jpg': '4835888888888888',\n",
              " 'bankOfCommFWD.jpg': '4232718888888888',\n",
              " 'barclaycard_forward_02122019.png': '4929401234567008',\n",
              " 'beaFlyerWorld.jpg': '5452290412345678',\n",
              " 'bociCard.jpg': '5520258888888888',\n",
              " 'bocommGoGoal.jpg': '4232710088888888',\n",
              " 'bocommPlatinum.jpg': '4232718888888888',\n",
              " 'cashback-reward-program-citibank-credit-card-credit-card-png-clip-art-700x444.png': '4147464088888888',\n",
              " 'ccbEye.jpg': '4317842088888888',\n",
              " 'ccbFlyAway.jpg': '5547248888888888',\n",
              " 'ccbMasterCard.jpg': '5547240088888888',\n",
              " 'ccbTiramisu.jpg': '5547248888888888',\n",
              " 'citiOctopusGoldVisa.jpg': '4617255012345678',\n",
              " 'citiOctopusPlat.jpg': '4617267012345678',\n",
              " 'citiPremierMiles.jpg': '4028562012345678',\n",
              " 'citicMotion.jpg': '5391428888888888',\n",
              " 'dahSingANA.jpg': '4514888888888888',\n",
              " 'dahSingAltruist.jpg': '5521008888888888',\n",
              " 'dahSingApitaUNY.jpg': '4514888888888888',\n",
              " 'dahSingAstroBoy.jpg': '5437368888888888',\n",
              " 'dahSingAutotoll.jpg': '4514228888888888',\n",
              " 'dahSingBatman.jpg': '4514888888888888',\n",
              " 'dahSingBritishAirways.jpg': '4514888888888888',\n",
              " 'dahSingChickeeduck.jpg': '5521008888888888',\n",
              " 'dahSingDoraemon.jpg': '4514888888888888',\n",
              " 'dahSingGundam.jpg': '4918888888888888',\n",
              " 'dahSingHelloKitty.jpg': '5521368888888888',\n",
              " 'dahSingLinkHappy.jpg': '4514228888888888',\n",
              " 'dahSingMelody.jpg': '4514888888888888',\n",
              " 'dahSingMileagePlus.jpg': '5521008888888888',\n",
              " 'dahSingOkashi.jpg': '4514228888882888',\n",
              " 'dahSingStudent.jpg': '5407955888888888',\n",
              " 'dbsPlatinum.jpg': '5408041234567890',\n",
              " 'debit-gold-eng-640x404.jpg': '4000123456789010',\n",
              " 'fuBonPlatVisa.jpg': '4058238868880618',\n",
              " 'fuBonTitanium.jpg': '5239858968880618',\n",
              " 'fubonYATA.jpg': '4058238868880618',\n",
              " 'fubonYATAKUMAMOTO.jpg': '5239858868880618',\n",
              " 'hangSengCUP.jpg': '6250240022228888',\n",
              " 'hangSengHKDPlatCommCard.jpg': '5584270112345678',\n",
              " 'hangSengMUJIVisa.jpg': '4006120012345678',\n",
              " 'hangSengMpower.jpg': '5408061112345678',\n",
              " 'hangSengPlatinumVisa.jpg': '4006120012345678',\n",
              " 'hangSengenJoyVisaPlatinum.jpg': '4557288833888888',\n",
              " 'hsbcAdvance.jpg': '4363240000008888',\n",
              " 'hsbcVisaSignature.jpg': '4966040588888888',\n",
              " 'icbcXploreVisaSignature.jpg': '4543388888888888',\n",
              " 'images.jpeg': '4227012345678901',\n",
              " 'images.png': '5229000123456789',\n",
              " 'images1.jpeg': '5049941234567890',\n",
              " 'images3.jpeg': '5488248691234567',\n",
              " 'img_credit-card-6.png': '4349228002333333',\n",
              " 'mc1_cashbackmc_en_sm@2x.png': '5415123456781234',\n",
              " 'mc2_wj_westjet_en_sm@2x.png': '5416123456781234',\n",
              " 'nab-rewards-classic1.jpg': '4557031234567890',\n",
              " 'ocbcBetterPayPass.jpg': '5521358888888888',\n",
              " 'ocbc_90n_card.png': '5524100188888888',\n",
              " 'premier-visa.jpg': '4588709945678910',\n",
              " 'primeCreditWeWa.jpg': '4100418888888888',\n",
              " 'primeCreditWeWaPlatinum.jpg': '4211188888888888',\n",
              " 'scbAsiaMiles.jpg': '5523438411234567',\n",
              " 'shaCommTVB.jpg': '5488298888888888',\n",
              " 'shaCommYGM.jpg': '4003890123456789',\n",
              " 'wingLungUnionPay.jpg': '6250638888888888',\n",
              " 'wingLungXcite.jpg': '4003288888888888'}"
            ]
          },
          "metadata": {
            "tags": []
          },
          "execution_count": 13
        }
      ]
    },
    {
      "cell_type": "code",
      "metadata": {
        "id": "5pWesEWlrhQR"
      },
      "source": [
        "import os\n",
        "\n",
        "if not os.path.isdir('result'):\n",
        "  os.mkdir('result')\n",
        "\n",
        "if not os.path.isdir('digit'):\n",
        "  os.mkdir('digit')"
      ],
      "execution_count": null,
      "outputs": []
    },
    {
      "cell_type": "code",
      "metadata": {
        "id": "Y3JS2Boccjb8"
      },
      "source": [
        "def get_credit_card(image, debug=False):\n",
        "    if debug: clone = image.copy()\n",
        "    \n",
        "    small_credit_card = False\n",
        "    if image.shape[0] * image.shape[1] <= 20000:\n",
        "      small_credit_card = True\n",
        "\n",
        "    bboxes, polys, score_text = test_net(net, image, 0.4, 0.4 if small_credit_card else 99999, 0.4, torch.cuda.is_available(), False, None)\n",
        "    filtered_polys = []\n",
        "    for poly in polys:\n",
        "      # max_locs = np.max(poly, 0)\n",
        "      if poly[0, 1] >= image.shape[0] // 2 and poly[0, 1] <  2 * image.shape[0] // 3 and cv2.contourArea(poly) > 0.002 * image.shape[0] * image.shape[1]:\n",
        "        filtered_polys.append(poly)\n",
        "    \n",
        "\n",
        "    formated_polys = [cv2.boundingRect(cnt) for cnt in filtered_polys]\n",
        "    \n",
        "    # formated_polys = sorted(formated_polys, key=lambda x: x[2] * x[3], reverse=True)[:min(len(formated_polys), 4)]\n",
        "    if not small_credit_card:\n",
        "\n",
        "        formated_polys = sorted(formated_polys, key=lambda x: np.linalg.norm([x[1]]))[:min(16, len(formated_polys))] \n",
        "        splitted_polys = []\n",
        "        for poly in formated_polys:\n",
        "            if poly[2] / (poly[3] / 2) > 2.25:\n",
        "                splitted_polys.append([poly[0], poly[1], poly[2] // 2, poly[3]])\n",
        "                splitted_polys.append([(poly[0] + poly[3]) // 2, (poly[1] + poly[2]) // 2, poly[2] // 2, poly[3]])\n",
        "            else:\n",
        "                splitted_polys.append(poly)\n",
        "\n",
        "        formated_polys = splitted_polys\n",
        "    formated_polys = sorted(formated_polys, key=lambda x: x[0])\n",
        "    \n",
        "    \n",
        "    predict = ''\n",
        "    area =[]\n",
        "    index = 0\n",
        "    for poly in formated_polys:\n",
        "      # if not poly[1] < image.shape[1] * 3 / 5 and not poly[1] + poly[3] > image.shape[1] * 3 / 5:\n",
        "      if not poly[1] < image.shape[0] * 3 / 5 < poly[1] + poly[3]:\n",
        "        continue \n",
        "      \n",
        "      # if poly[1]+ poly[3] < image.shape[0] * 3 / 5:\n",
        "      #   continue\n",
        "\n",
        "      area.append(poly[2] * poly[3])\n",
        "      if debug: cv2.rectangle(clone, (poly[0], poly[1]), (poly[0] + poly[2], poly[1] + poly[3]), (225, 0, 0), 2)\n",
        "      index = index + 1\n",
        "      if small_credit_card:\n",
        "          first_digit = image[poly[1]: poly[1] + poly[3], poly[0]: poly[0] + poly[2] // 4]\n",
        "          second_digit = image[poly[1]: poly[1] + poly[3], poly[0] + poly[2] // 4: poly[0] + 2 * poly[2] // 4]\n",
        "          third_digit = image[poly[1]: poly[1] + poly[3], poly[0] + 2 * poly[2] // 4: poly[0] + 3 * poly[2] // 4]\n",
        "          forth_digit = image[poly[1]: poly[1] + poly[3], poly[0] + 3 * poly[2] // 4: poly[0] + poly[2]]\n",
        "      \n",
        "          predict = predict + '{}{}{}{}'.format(\n",
        "            predict_digit(first_digit), \n",
        "            predict_digit(second_digit), \n",
        "            predict_digit(third_digit), \n",
        "            predict_digit(forth_digit))\n",
        "      else:\n",
        "          predict = predict + '{}'.format(predict_digit(image[poly[1]: poly[1] + poly[3], poly[0]: poly[0] + poly[2]]))\n",
        "\n",
        "    if debug: cv2.putText(clone, predict, (50, 50), cv2.FONT_HERSHEY_SIMPLEX, 0.5, (125, 0, 0), 1, cv2.LINE_AA)\n",
        "    return predict, clone if debug else None"
      ],
      "execution_count": null,
      "outputs": []
    },
    {
      "cell_type": "code",
      "metadata": {
        "colab": {
          "base_uri": "https://localhost:8080/"
        },
        "id": "Abv3dvHVSFcz",
        "outputId": "b3789817-14e3-40e7-9047-9f5127e5e0db"
      },
      "source": [
        "import glob\n",
        "import cv2\n",
        "import math\n",
        "\n",
        "total_score = 0.0\n",
        "total_image = 0\n",
        "for filename in glob.glob('drive/MyDrive/credit/credit/raw_card/*.*'):\n",
        "    if not filename.split('/')[-1] in data.keys():\n",
        "      continue\n",
        "\n",
        "    total_image = total_image + 1\n",
        "    image = cv2.imread(filename)\n",
        "    predict, debug = get_credit_card(image)\n",
        "    \n",
        "    if len(predict) < 16:\n",
        "      total_image = total_image - 1\n",
        "      continue\n",
        "      \n",
        "    score = 0\n",
        "    for i in range(len(data[filename.split('/')[-1]])):\n",
        "      if i >= len(predict):\n",
        "        continue\n",
        "      \n",
        "      if not debug is None:\n",
        "        cv2.imwrite('result/{}'.format(filename.split('/')[-1]), debug)\n",
        "      if predict[i] == data[filename.split('/')[-1]][i]:\n",
        "          score = score + 1\n",
        "    total_score = total_score + score\n",
        "    print('{:50}{:<25} {:<25} {:>2} {}'.format(\n",
        "        filename.split('/')[-1], predict,\n",
        "        data[filename.split('/')[-1]],\n",
        "        score ,\n",
        "        image.shape[0] * image.shape[1]\n",
        "      ))\n",
        "    \n",
        "    # print(['{:.4f}'.format(a / (image.shape[0] * image.shape[1])) for a in area])\n",
        "print(total_score / total_image)\n",
        "print(total_image)"
      ],
      "execution_count": null,
      "outputs": [
        {
          "output_type": "stream",
          "text": [
            "/usr/local/lib/python3.7/dist-packages/torch/nn/functional.py:718: UserWarning: Named tensors and all their associated APIs are an experimental feature and subject to change. Please do not use them for anything important until they are released as stable. (Triggered internally at  /pytorch/c10/core/TensorImpl.h:1156.)\n",
            "  return torch.max_pool2d(input, kernel_size, stride, padding, dilation, ceil_mode)\n"
          ],
          "name": "stderr"
        },
        {
          "output_type": "stream",
          "text": [
            "aeonDRMAX.jpg                                     9888989888888988          8888888888888888          12 40480\n",
            "aeonFerrari.jpg                                   8888888888888888          8888888888888888          16 42380\n",
            "aeonJAL.jpg                                       4448444844484444          8888888888888888           3 900000\n",
            "aeonJCB.jpg                                       8388888883888888          8888888888888888          14 42380\n",
            "aeonKFC.jpg                                       8888888889889874          8888888888888888          12 42380\n",
            "aeonSPCA.jpg                                      8889383090888888          8888888888888888          10 42380\n",
            "aeonOKiLike.jpg                                   8888888888884688          8888888888888888          14 42120\n",
            "aeonVisa.jpg                                      8888888888888898          8888888888888888          15 42380\n",
            "aeonWJCB.jpg                                      8888888888888888          8888888888888888          16 42380\n",
            "bankOfChinaGoodDayUnionPay.jpg                    1251718888884881          6251368888888888          11 15147\n",
            "bankOfChinaPlatinum.jpg                           4835888888888888          4835888888888888          16 57300\n",
            "bankOfChinaCUPPlatinum.jpg                        6250428309888688          6250428888888888          12 56727\n",
            "bankOfChinaGoodDayVisa.jpg                        4624298845888888          4624198888888888          13 14744\n",
            "bankOfCommFWD.jpg                                 4232171888888883          4232718888888888          12 204989\n",
            "bankOfChinaSogoVisaPlatinum.jpg                   4835888888888888          4835888888888888          16 56810\n",
            "ccbMasterCard.jpg                                 5447240049884498          5547240088888888          10 391344\n",
            "bociCard.jpg                                      5520814484844699          5520258888888888           6 51910\n",
            "ccbFlyAway.jpg                                    5547248888888888          5547248888888888          16 319424\n",
            "ccbEye.jpg                                        4317862066388888          4317842088888888          12 161177\n",
            "bocommPlatinum.jpg                                4232113201218323          4232718888888888           6 161600\n",
            "citiOctopusPlat.jpg                               4617267012345678          4617267012345678          16 40000\n",
            "dahSingApitaUNY.jpg                               4514888888888888          4514888888888888          16 42380\n",
            "dahSingANA.jpg                                    4514888888888888          4514888888888888          16 43560\n",
            "dahSingAltruist.jpg                               5521008888888888          5521008888888888          16 42735\n",
            "citicMotion.jpg                                   5391428888888888          5391428888888888          16 39500\n",
            "citiPremierMiles.jpg                              4028562012345678          4028562012345678          16 39750\n",
            "dahSingAutotoll.jpg                               4514228888888888          4514228888888888          16 30719\n",
            "dahSingLinkHappy.jpg                              4514228888888888          4514228888888888          16 30997\n",
            "dahSingBritishAirways.jpg                         4514333333033888          4514888888888888           7 43230\n",
            "dahSingChickeeduck.jpg                            5521008888888898          5521008888888888          15 43754\n",
            "dahSingStudent.jpg                                5407955886344864          5407955888888888          10 43658\n",
            "hangSengenJoyVisaPlatinum.jpg                     4557288833888888          4557288833888888          16 4674384\n",
            "fubonYATA.jpg                                     4058238868880618          4058238868880618          16 193695\n",
            "fuBonPlatVisa.jpg                                 9058233868880618          4058238868880618          14 2962608\n",
            "fuBonTitanium.jpg                                 5234858968880618          5239858968880618          15 2965824\n",
            "fubonYATAKUMAMOTO.jpg                             5239858868880618          5239858868880618          16 207000\n",
            "hangSengHKDPlatCommCard.jpg                       5584270112345678          5584270112345678          16 85008\n",
            "hangSengPlatinumVisa.jpg                          4006120912345678          4006120012345678          15 4601856\n",
            "hsbcAdvance.jpg                                   4363240000008868          4363240000008888          15 39000\n",
            "hangSengMUJIVisa.jpg                              4006120012345678          4006120012345678          16 888624\n",
            "hsbcVisaSignature.jpg                             4966040588888888          4966040588888888          16 611202\n",
            "ocbcBetterPayPass.jpg                             5521358888888888          5521358888888888          16 79120\n",
            "primeCreditWeWaPlatinum.jpg                       4217188888888888          4211188888888888          15 477630\n",
            "wingLungUnionPay.jpg                              6250638888888888          6250638888888888          16 52992\n",
            "shaCommYGM.jpg                                    1003890188155780          4003890123456789          10 50836\n",
            "images.jpeg                                       4227012345678901          4227012345678901          16 50374\n",
            "premier-visa.jpg                                  4948209945676960          4588709945678910          11 646668\n",
            "mc1_cashbackmc_en_sm@2x.png                       5415623456786234          5415123456781234          14 403200\n",
            "images1.jpeg                                      5049941234567890          5049941234567890          16 50580\n",
            "images3.jpeg                                      5488248691234567          5488248691234567          16 50478\n",
            "Emerald_EN_Comp27_548x344_tcm341-338971.jpg       4520123456789123          4520123456789123          16 188512\n",
            "img_credit-card-6.png                             4349228002333333          4349228002333333          16 226800\n",
            "800x504-CassetteCreditCard.png                    9225690000000000          5276690000000000          13 403200\n",
            "images.png                                        5229000723656289          5229000123456789          13 50374\n",
            "ocbc_90n_card.png                                 5524100188888888          5524100188888888          16 492780\n",
            "mc2_wj_westjet_en_sm@2x.png                       5416123456780234          5416123456781234          15 189060\n",
            "nab-rewards-classic1.jpg                          4557031234567890          4557031234567890          16 228000\n",
            "Ceb-Credit-Card-Gold_0726.jpg                     6234562890123454          1234567890123456          13 226800\n",
            "Scotia_Gold_CHIP_MC_En_MED.jpg                    5412751234567899          5412751234567899          16 286875\n",
            "BMO-AIR-MILES-World-Mastercard.png                5191231234567890          5191231234567890          16 163710\n",
            "Scotia_Magna_CHIP_MC_En.jpg                       5412751234567899          5412751234567899          16 286875\n",
            "Learn_Visa_ENG.png                                4547423456789012          4537123456789012          14 257920\n",
            "13.983870967741936\n",
            "62\n"
          ],
          "name": "stdout"
        }
      ]
    },
    {
      "cell_type": "code",
      "metadata": {
        "colab": {
          "base_uri": "https://localhost:8080/"
        },
        "id": "0FkWM1cxseiS",
        "outputId": "8f671131-4496-440a-a025-e7961f5baf49"
      },
      "source": [
        "!zip result.zip result/*\n",
        "!zip digit.zip digit/*"
      ],
      "execution_count": null,
      "outputs": [
        {
          "output_type": "stream",
          "text": [
            "\tzip warning: name not matched: result/*\n",
            "\n",
            "zip error: Nothing to do! (result.zip)\n",
            "\tzip warning: name not matched: digit/*\n",
            "\n",
            "zip error: Nothing to do! (digit.zip)\n"
          ],
          "name": "stdout"
        }
      ]
    }
  ]
}